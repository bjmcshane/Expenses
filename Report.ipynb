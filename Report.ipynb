{
 "cells": [
  {
   "cell_type": "code",
   "execution_count": 1,
   "id": "6f5715aa-7cd9-4ae9-95cd-546efbaafcc3",
   "metadata": {},
   "outputs": [],
   "source": [
    "import pandas as pd\n",
    "import numpy as np \n",
    "import seaborn as sns"
   ]
  },
  {
   "cell_type": "code",
   "execution_count": 2,
   "id": "f56b0b07-37e0-4e2d-a9c6-621975205e48",
   "metadata": {},
   "outputs": [
    {
     "data": {
      "text/html": [
       "<div>\n",
       "<style scoped>\n",
       "    .dataframe tbody tr th:only-of-type {\n",
       "        vertical-align: middle;\n",
       "    }\n",
       "\n",
       "    .dataframe tbody tr th {\n",
       "        vertical-align: top;\n",
       "    }\n",
       "\n",
       "    .dataframe thead th {\n",
       "        text-align: right;\n",
       "    }\n",
       "</style>\n",
       "<table border=\"1\" class=\"dataframe\">\n",
       "  <thead>\n",
       "    <tr style=\"text-align: right;\">\n",
       "      <th></th>\n",
       "      <th>year</th>\n",
       "      <th>month</th>\n",
       "      <th>date</th>\n",
       "      <th>money_put_towards_retirement</th>\n",
       "      <th>money_saved_for_retirement</th>\n",
       "      <th>money_put_towards_house</th>\n",
       "      <th>money_saved_for_house</th>\n",
       "      <th>money_put_towards_portfolio</th>\n",
       "      <th>money_saved_in_portfolio</th>\n",
       "    </tr>\n",
       "  </thead>\n",
       "  <tbody>\n",
       "    <tr>\n",
       "      <th>0</th>\n",
       "      <td>2025</td>\n",
       "      <td>1</td>\n",
       "      <td>2025-01-31</td>\n",
       "      <td>420</td>\n",
       "      <td>10000</td>\n",
       "      <td>1200</td>\n",
       "      <td>10000</td>\n",
       "      <td>100</td>\n",
       "      <td>500</td>\n",
       "    </tr>\n",
       "    <tr>\n",
       "      <th>1</th>\n",
       "      <td>2025</td>\n",
       "      <td>2</td>\n",
       "      <td>2025-02-28</td>\n",
       "      <td>420</td>\n",
       "      <td>10420</td>\n",
       "      <td>1200</td>\n",
       "      <td>11200</td>\n",
       "      <td>100</td>\n",
       "      <td>600</td>\n",
       "    </tr>\n",
       "    <tr>\n",
       "      <th>2</th>\n",
       "      <td>2025</td>\n",
       "      <td>3</td>\n",
       "      <td>2025-03-31</td>\n",
       "      <td>420</td>\n",
       "      <td>10840</td>\n",
       "      <td>1200</td>\n",
       "      <td>12400</td>\n",
       "      <td>100</td>\n",
       "      <td>700</td>\n",
       "    </tr>\n",
       "    <tr>\n",
       "      <th>3</th>\n",
       "      <td>2025</td>\n",
       "      <td>4</td>\n",
       "      <td>2025-04-30</td>\n",
       "      <td>420</td>\n",
       "      <td>11080</td>\n",
       "      <td>1200</td>\n",
       "      <td>13600</td>\n",
       "      <td>100</td>\n",
       "      <td>800</td>\n",
       "    </tr>\n",
       "    <tr>\n",
       "      <th>4</th>\n",
       "      <td>2025</td>\n",
       "      <td>5</td>\n",
       "      <td>2025-05-31</td>\n",
       "      <td>420</td>\n",
       "      <td>11500</td>\n",
       "      <td>1200</td>\n",
       "      <td>14800</td>\n",
       "      <td>100</td>\n",
       "      <td>900</td>\n",
       "    </tr>\n",
       "  </tbody>\n",
       "</table>\n",
       "</div>"
      ],
      "text/plain": [
       "   year  month        date  money_put_towards_retirement  \\\n",
       "0  2025      1  2025-01-31                           420   \n",
       "1  2025      2  2025-02-28                           420   \n",
       "2  2025      3  2025-03-31                           420   \n",
       "3  2025      4  2025-04-30                           420   \n",
       "4  2025      5  2025-05-31                           420   \n",
       "\n",
       "   money_saved_for_retirement  money_put_towards_house  money_saved_for_house  \\\n",
       "0                       10000                     1200                  10000   \n",
       "1                       10420                     1200                  11200   \n",
       "2                       10840                     1200                  12400   \n",
       "3                       11080                     1200                  13600   \n",
       "4                       11500                     1200                  14800   \n",
       "\n",
       "   money_put_towards_portfolio  money_saved_in_portfolio  \n",
       "0                          100                       500  \n",
       "1                          100                       600  \n",
       "2                          100                       700  \n",
       "3                          100                       800  \n",
       "4                          100                       900  "
      ]
     },
     "execution_count": 2,
     "metadata": {},
     "output_type": "execute_result"
    }
   ],
   "source": [
    "df = pd.read_csv(\"dummy_data.csv\")\n",
    "df.head()"
   ]
  },
  {
   "cell_type": "code",
   "execution_count": 3,
   "id": "e6927b7d-301e-4feb-b2b3-51e173f11519",
   "metadata": {},
   "outputs": [
    {
     "data": {
      "text/plain": [
       "Index(['year', 'month', 'date', 'money_put_towards_retirement',\n",
       "       'money_saved_for_retirement', 'money_put_towards_house',\n",
       "       'money_saved_for_house', 'money_put_towards_portfolio',\n",
       "       'money_saved_in_portfolio'],\n",
       "      dtype='object')"
      ]
     },
     "execution_count": 3,
     "metadata": {},
     "output_type": "execute_result"
    }
   ],
   "source": [
    "df.columns"
   ]
  },
  {
   "cell_type": "code",
   "execution_count": 4,
   "id": "fc6ee9e5-de53-48e4-92f4-0d1269fc5f90",
   "metadata": {},
   "outputs": [
    {
     "data": {
      "text/plain": [
       "\"\\ntemp = df.unstack().reset_index()\\ncolumns=['money_put_towards_retirement',\\n       'money_saved_for_retirement', 'money_put_towards_house',\\n       'money_saved_for_house', 'money_put_towards_portfolio',\\n       'money_saved_in_portfolio']\\ntemp.columns = columns\\ntemp[columns]\\n\""
      ]
     },
     "execution_count": 4,
     "metadata": {},
     "output_type": "execute_result"
    }
   ],
   "source": [
    "# temp = df.pivot(index='date', columns='')\n",
    "\"\"\"\n",
    "temp = df.unstack().reset_index()\n",
    "columns=['money_put_towards_retirement',\n",
    "       'money_saved_for_retirement', 'money_put_towards_house',\n",
    "       'money_saved_for_house', 'money_put_towards_portfolio',\n",
    "       'money_saved_in_portfolio']\n",
    "temp.columns = columns\n",
    "temp[columns]\n",
    "\"\"\""
   ]
  },
  {
   "cell_type": "code",
   "execution_count": 5,
   "id": "1ba617ae-b8b4-4ce3-a9b9-7fbde761ff65",
   "metadata": {},
   "outputs": [
    {
     "data": {
      "text/plain": [
       "<Axes: xlabel='month', ylabel='money_put_towards_house'>"
      ]
     },
     "execution_count": 5,
     "metadata": {},
     "output_type": "execute_result"
    },
    {
     "data": {
      "image/png": "[encoded data removed]",
      "text/plain": [
       "<Figure size 640x480 with 1 Axes>"
      ]
     },
     "metadata": {},
     "output_type": "display_data"
    }
   ],
   "source": [
    "sns.lineplot(data=df, x='month', y='money_put_towards_house')\n",
    "sns.lineplot(data=df, x='month', y='money_saved_for_house')\n",
    "sns.lineplot(data=df, x='month', y='money_put_towards_retirement')\n",
    "sns.lineplot(data=df, x='month', y='money_saved_for_retirement')"
   ]
  },
  {
   "cell_type": "code",
   "execution_count": null,
   "id": "9692f8a8-7644-4141-8920-aa985ac5b29c",
   "metadata": {},
   "outputs": [],
   "source": [
    "sns.lineplot(data=df, x='month', y='money_put_towards_house')\n",
    "sns.lineplot(data=df, x='month', y='money_saved_for_house')\n",
    "sns.lineplot(data=df, x='month', y='money_put_towards_retirement')\n",
    "sns.lineplot(data=df, x='month', y='money_saved_for_retirement')"
   ]
  },
  {
   "cell_type": "code",
   "execution_count": null,
   "id": "901fd003-8bdb-41f5-9c25-786789548ef8",
   "metadata": {},
   "outputs": [],
   "source": [
    "sns.lineplot(data=df, x='month', y='money_spent_on_eating_out')\n",
    "sns.lineplot(data=df, x='month', y='money_spent_on_groceries')\n",
    "sns.lineplot(data=df, x='month', y='money_spent_entertainment_alcohol')"
   ]
  }
 ],
 "metadata": {
  "kernelspec": {
   "display_name": "Python 3 (ipykernel)",
   "language": "python",
   "name": "python3"
  },
  "language_info": {
   "codemirror_mode": {
    "name": "ipython",
    "version": 3
   },
   "file_extension": ".py",
   "mimetype": "text/x-python",
   "name": "python",
   "nbconvert_exporter": "python",
   "pygments_lexer": "ipython3",
   "version": "3.13.1"
  }
 },
 "nbformat": 4,
 "nbformat_minor": 5
}
